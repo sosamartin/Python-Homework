{
 "cells": [
  {
   "cell_type": "code",
   "execution_count": null,
   "id": "8dbbec2b-017e-4019-8e32-f943bfbb677b",
   "metadata": {},
   "outputs": [],
   "source": [
    "##Your task is to create a Python script that analyzes the records to calculate each of the following:\n",
    "\n",
    "## The total number of months included in the dataset.\n",
    "\n",
    "## The net total amount of Profit/Losses over the entire period.\n",
    "\n",
    "## The average of the changes in Profit/Losses over the entire period.\n",
    "\n",
    "## The greatest increase in profits (date and amount) over the entire period.\n",
    "\n",
    "## The greatest decrease in losses (date and amount) over the entire period."
   ]
  },
  {
   "cell_type": "code",
   "execution_count": null,
   "id": "e007e409-db59-4a12-8718-0bcc3dce729a",
   "metadata": {
    "tags": []
   },
   "outputs": [],
   "source": [
    "import csv \n",
    "from pathlib import Path"
   ]
  },
  {
   "cell_type": "code",
   "execution_count": null,
   "id": "9b1216d4-c749-495d-90d0-c54825d331b4",
   "metadata": {
    "tags": []
   },
   "outputs": [],
   "source": [
    "file_to_load = Path(\"budget_data.csv\")\n",
    "file_to_output = Path(\"budget_analysis.txt\")"
   ]
  },
  {
   "cell_type": "code",
   "execution_count": null,
   "id": "8c1ae53b-9e15-46fc-9a53-eb6551d84993",
   "metadata": {
    "tags": []
   },
   "outputs": [],
   "source": [
    "total_months = 0\n",
    "month_of_change = []\n",
    "net_change_list = []\n",
    "greatest_increase = [\"\",0]\n",
    "greatest_decrease = [\"\", 99999999999999]\n",
    "total_net = 0"
   ]
  },
  {
   "cell_type": "code",
   "execution_count": null,
   "id": "00314c94-a595-4e63-9648-aad86af21c51",
   "metadata": {
    "tags": []
   },
   "outputs": [],
   "source": [
    "with open(file_to_load) as financial_data:\n",
    "    reader = csv.reader(financial_data)\n",
    "    \n",
    "    header = next(reader)\n",
    "    \n",
    "    first_row = next(reader)\n",
    "    total_months = total_months + 1 \n",
    "    total_net = total_net + int(first_row[1])\n",
    "    prev_net = int(first_row[1])\n",
    "    \n",
    "    for row in reader:\n",
    "        total_months = total_months + 1\n",
    "        total_net = total_net + int(row[1])\n",
    "        \n",
    "        net_change = int(row[1]) - prev_net\n",
    "        prev_net = int(row[1]) \n",
    "        net_change_list = net_change_list + [net_change]\n",
    "        month_of_change = month_of_change + [row(0)]\n",
    "        \n",
    "        if net_change > greatest_increase[1]:\n",
    "            greatest_increase[0] = row[0]\n",
    "            greatest_increase[1] = net_change\n",
    "        \n",
    "        if net_change < greatest_decrease[1]:\n",
    "            greatest_decrease[0] = row[0]\n",
    "            greatest_decrease[1] = net_change\n",
    "        "
   ]
  },
  {
   "cell_type": "code",
   "execution_count": null,
   "id": "2dc0a86b-9987-4fba-b688-c8c444aff6f5",
   "metadata": {
    "tags": []
   },
   "outputs": [],
   "source": [
    "net_monthly_avg = [sum](net_change_list) / len(net_change_list,2)"
   ]
  },
  {
   "cell_type": "code",
   "execution_count": null,
   "id": "878e511d-618f-4e86-9ba3-48ca574dcfb9",
   "metadata": {
    "tags": []
   },
   "outputs": [],
   "source": [
    "with open(file_to_output, \"w\") as txt.file:\n",
    "    txt.file.write(f\"Financial Analysis/n\")\n",
    "    txt.file.write(f\"-----------------------------\\n\")\n",
    "    txt.file.write(f\"Total Months: {total_months}\\n\")\n",
    "    txt.file.write(f\"Total: ${total_net}\\n\")\n",
    "    txt.file.write(f\"Average Change: ${net_monthly_avg}\\n\")\n",
    "    txt.file.write(f\"Greatest Increase in Profits: {greatest_increase[0]} (${greatest_increase[1]})\n",
    "    txt.file.write(f\"Greatest Decrease in Profits: {greatest_decrease[0]} (${greatest_decrease[1]})"
   ]
  },
  {
   "cell_type": "code",
   "execution_count": null,
   "id": "92fd86b0-2a4b-400b-a675-3e199fc634ce",
   "metadata": {},
   "outputs": [],
   "source": []
  },
  {
   "cell_type": "code",
   "execution_count": null,
   "id": "8cc1a271-1de6-4b79-be1e-f11d98074350",
   "metadata": {},
   "outputs": [],
   "source": []
  }
 ],
 "metadata": {
  "kernelspec": {
   "display_name": "Python 3 (ipykernel)",
   "language": "python",
   "name": "python3"
  },
  "language_info": {
   "codemirror_mode": {
    "name": "ipython",
    "version": 3
   },
   "file_extension": ".py",
   "mimetype": "text/x-python",
   "name": "python",
   "nbconvert_exporter": "python",
   "pygments_lexer": "ipython3",
   "version": "3.11.4"
  }
 },
 "nbformat": 4,
 "nbformat_minor": 5
}
