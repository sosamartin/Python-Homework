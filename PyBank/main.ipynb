{
 "cells": [
  {
   "cell_type": "code",
   "execution_count": null,
   "id": "8dbbec2b-017e-4019-8e32-f943bfbb677b",
   "metadata": {},
   "outputs": [],
   "source": [
    "##Your task is to create a Python script that analyzes the records to calculate each of the following:\n",
    "\n",
    "## The total number of months included in the dataset.\n",
    "\n",
    "## The net total amount of Profit/Losses over the entire period.\n",
    "\n",
    "## The average of the changes in Profit/Losses over the entire period.\n",
    "\n",
    "## The greatest increase in profits (date and amount) over the entire period.\n",
    "\n",
    "## The greatest decrease in losses (date and amount) over the entire period."
   ]
  },
  {
   "cell_type": "code",
   "execution_count": 1,
   "id": "e007e409-db59-4a12-8718-0bcc3dce729a",
   "metadata": {
    "tags": []
   },
   "outputs": [],
   "source": [
    "import csv \n",
    "from pathlib import Path"
   ]
  },
  {
   "cell_type": "code",
   "execution_count": 2,
   "id": "9b1216d4-c749-495d-90d0-c54825d331b4",
   "metadata": {
    "tags": []
   },
   "outputs": [],
   "source": [
    "file_to_load = Path(\"budget_data.csv\")\n",
    "file_to_output = Path(\"budget_analysis.txt\")"
   ]
  },
  {
   "cell_type": "code",
   "execution_count": 3,
   "id": "8c1ae53b-9e15-46fc-9a53-eb6551d84993",
   "metadata": {
    "tags": []
   },
   "outputs": [],
   "source": [
    "#create variables\n",
    "total_months = 0\n",
    "month_of_change = []\n",
    "net_change_list = []\n",
    "greatest_increase = [\"\",0]\n",
    "greatest_decrease = [\"\", 99999999999999]\n",
    "total_net = 0"
   ]
  },
  {
   "cell_type": "code",
   "execution_count": 5,
   "id": "ad113e9e-d63b-4b37-9f1c-e5442edc5fdd",
   "metadata": {
    "collapsed": true,
    "jupyter": {
     "outputs_hidden": true
    },
    "tags": []
   },
   "outputs": [
    {
     "ename": "SyntaxError",
     "evalue": "invalid syntax (2941750471.py, line 11)",
     "output_type": "error",
     "traceback": [
      "\u001b[0;36m  Cell \u001b[0;32mIn[5], line 11\u001b[0;36m\u001b[0m\n\u001b[0;31m    total_net = total net + int(first_row[1])\u001b[0m\n\u001b[0m                      ^\u001b[0m\n\u001b[0;31mSyntaxError\u001b[0m\u001b[0;31m:\u001b[0m invalid syntax\n"
     ]
    }
   ],
   "source": [
    "# the LOOP\n",
    "#read CSV, set up a reader object\n",
    "with open(file_to_load) as financial_data:\n",
    "    reader = csv.reader(financial_data)\n",
    "    \n",
    "   #read the header row\n",
    "    header = next(reader)\n",
    "   \n",
    "   #calculating metric from the first row\n",
    "    first_row = next(reader)\n",
    "    total_months = total_months + 1 #accounting for first month\n",
    "    total_net = total net + int(row[1])\n",
    "    prev_net = int(first_row[1])\n",
    "    \n",
    "    #populating matrics\n",
    "    for row in reader:\n",
    "       #easy metrics\n",
    "        total_months = total_months + 1\n",
    "        total_net = total_net + int(row[1])\n",
    "        #harder metrics, track changes row over row\n",
    "        net_change = int(row[1]) - prev_net\n",
    "        prev_net = int(row[1]) \n",
    "        net_change_list = net_change_list + (net_change)\n",
    "        month_of_change = month_of_change + [row(0)]\n",
    "        #calculate greatest increase\n",
    "        if net_change > greatest_increase[1]:\n",
    "            greatest_increase[0] = row[0]\n",
    "            greatest_increase[1] = net_change\n",
    "        #calculate greatest decrease\n",
    "        if net_change < greatest_decrease[1]:\n",
    "            greatest_decrease[0] = row[0]\n",
    "            greatest_decrease[1] = net_change"
   ]
  },
  {
   "cell_type": "code",
   "execution_count": null,
   "id": "828ee147-71fa-4824-9892-c7b765a50db7",
   "metadata": {},
   "outputs": [],
   "source": [
    "net_monthly_avg = sum(net_change_list) / len(net_change_list)"
   ]
  },
  {
   "cell_type": "code",
   "execution_count": 9,
   "id": "b10d91d9-7e6a-429e-8fa1-cef052059fd5",
   "metadata": {
    "tags": []
   },
   "outputs": [
    {
     "ename": "NameError",
     "evalue": "name 'txt' is not defined",
     "output_type": "error",
     "traceback": [
      "\u001b[0;31m---------------------------------------------------------------------------\u001b[0m",
      "\u001b[0;31mNameError\u001b[0m                                 Traceback (most recent call last)",
      "Cell \u001b[0;32mIn[9], line 1\u001b[0m\n\u001b[0;32m----> 1\u001b[0m \u001b[38;5;28;01mwith\u001b[39;00m \u001b[38;5;28mopen\u001b[39m(file_to_output, \u001b[38;5;124m\"\u001b[39m\u001b[38;5;124mw\u001b[39m\u001b[38;5;124m\"\u001b[39m) \u001b[38;5;28;01mas\u001b[39;00m txt\u001b[38;5;241m.\u001b[39mfile:\n\u001b[1;32m      2\u001b[0m     txt\u001b[38;5;241m.\u001b[39mfile\u001b[38;5;241m.\u001b[39mwrite(\u001b[38;5;124mf\u001b[39m\u001b[38;5;124m\"\u001b[39m\u001b[38;5;124mFinancial Analysis/n\u001b[39m\u001b[38;5;124m\"\u001b[39m)\n\u001b[1;32m      3\u001b[0m     txt\u001b[38;5;241m.\u001b[39mfile\u001b[38;5;241m.\u001b[39mwrite\n",
      "\u001b[0;31mNameError\u001b[0m: name 'txt' is not defined"
     ]
    }
   ],
   "source": [
    "with open(file_to_output, \"w\") as txt.file:\n",
    "    txt.file.write(f\"Financial Analysis/n\")\n",
    "    txt.file.write\n",
    "    txt.file.write\n",
    "    txt.file.write\n",
    "    txt.file.write\n",
    "    txt.file.write\n",
    "    txt.file.write"
   ]
  },
  {
   "cell_type": "code",
   "execution_count": null,
   "id": "fb589c6a-6466-4d73-8a06-bb80d866d2c3",
   "metadata": {},
   "outputs": [],
   "source": []
  },
  {
   "cell_type": "code",
   "execution_count": null,
   "id": "a5da6db8-913a-48b8-a147-f6cb579a9496",
   "metadata": {},
   "outputs": [],
   "source": []
  }
 ],
 "metadata": {
  "kernelspec": {
   "display_name": "Python 3 (ipykernel)",
   "language": "python",
   "name": "python3"
  },
  "language_info": {
   "codemirror_mode": {
    "name": "ipython",
    "version": 3
   },
   "file_extension": ".py",
   "mimetype": "text/x-python",
   "name": "python",
   "nbconvert_exporter": "python",
   "pygments_lexer": "ipython3",
   "version": "3.11.4"
  }
 },
 "nbformat": 4,
 "nbformat_minor": 5
}
